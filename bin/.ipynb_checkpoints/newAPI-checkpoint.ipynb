{
 "cells": [
  {
   "cell_type": "code",
   "execution_count": 4,
   "metadata": {
    "collapsed": true
   },
   "outputs": [],
   "source": [
    "import requests"
   ]
  },
  {
   "cell_type": "code",
   "execution_count": 14,
   "metadata": {
    "collapsed": false
   },
   "outputs": [
    {
     "name": "stderr",
     "output_type": "stream",
     "text": [
      "C:\\Users\\fbuser\\Anaconda2\\lib\\site-packages\\requests\\packages\\urllib3\\connectionpool.py:843: InsecureRequestWarning: Unverified HTTPS request is being made. Adding certificate verification is strongly advised. See: https://urllib3.readthedocs.io/en/latest/advanced-usage.html#ssl-warnings\n",
      "  InsecureRequestWarning)\n"
     ]
    },
    {
     "ename": "AttributeError",
     "evalue": "'Session' object has no attribute 'status_code'",
     "output_type": "error",
     "traceback": [
      "\u001b[0;31m---------------------------------------------------------------------------\u001b[0m",
      "\u001b[0;31mAttributeError\u001b[0m                            Traceback (most recent call last)",
      "\u001b[0;32m<ipython-input-14-4ee5670f2cd2>\u001b[0m in \u001b[0;36m<module>\u001b[0;34m()\u001b[0m\n\u001b[1;32m      3\u001b[0m \u001b[0ms\u001b[0m \u001b[1;33m=\u001b[0m \u001b[0mrequests\u001b[0m\u001b[1;33m.\u001b[0m\u001b[0mSession\u001b[0m\u001b[1;33m(\u001b[0m\u001b[1;33m)\u001b[0m\u001b[1;33m\u001b[0m\u001b[0m\n\u001b[1;32m      4\u001b[0m \u001b[0ms\u001b[0m\u001b[1;33m.\u001b[0m\u001b[0mget\u001b[0m\u001b[1;33m(\u001b[0m\u001b[0mb2\u001b[0m\u001b[1;33m,\u001b[0m \u001b[0mverify\u001b[0m\u001b[1;33m=\u001b[0m\u001b[0mFalse\u001b[0m\u001b[1;33m)\u001b[0m\u001b[1;33m\u001b[0m\u001b[0m\n\u001b[0;32m----> 5\u001b[0;31m \u001b[0ms\u001b[0m\u001b[1;33m.\u001b[0m\u001b[0mstatus_code\u001b[0m\u001b[1;33m\u001b[0m\u001b[0m\n\u001b[0m\u001b[1;32m      6\u001b[0m \u001b[0mr\u001b[0m \u001b[1;33m=\u001b[0m \u001b[0mrequests\u001b[0m\u001b[1;33m.\u001b[0m\u001b[0mget\u001b[0m\u001b[1;33m(\u001b[0m\u001b[0mb2\u001b[0m\u001b[1;33m,\u001b[0m \u001b[0mverify\u001b[0m\u001b[1;33m=\u001b[0m\u001b[0mFalse\u001b[0m\u001b[1;33m)\u001b[0m\u001b[1;33m\u001b[0m\u001b[0m\n\u001b[1;32m      7\u001b[0m \u001b[0mr\u001b[0m\u001b[1;33m.\u001b[0m\u001b[0mheaders\u001b[0m\u001b[1;33m\u001b[0m\u001b[0m\n",
      "\u001b[0;31mAttributeError\u001b[0m: 'Session' object has no attribute 'status_code'"
     ]
    }
   ],
   "source": [
    "baseurl = 'https://query1.finance.yahoo.com/v7/finance/download/2018.HK'\n",
    "b2 = 'https://chart.yahoo.com/table.csv?s=IBM'\n",
    "s = requests.Session()\n",
    "s.get(b2, verify=False)\n",
    "s.status_code\n",
    "r = requests.get(b2, verify=False)\n",
    "r.headers\n"
   ]
  },
  {
   "cell_type": "code",
   "execution_count": 8,
   "metadata": {
    "collapsed": false
   },
   "outputs": [
    {
     "name": "stderr",
     "output_type": "stream",
     "text": [
      "C:\\Users\\Aug\\Anaconda2\\lib\\site-packages\\requests\\packages\\urllib3\\connectionpool.py:843: InsecureRequestWarning: Unverified HTTPS request is being made. Adding certificate verification is strongly advised. See: https://urllib3.readthedocs.io/en/latest/advanced-usage.html#ssl-warnings\n",
      "  InsecureRequestWarning)\n"
     ]
    },
    {
     "name": "stdout",
     "output_type": "stream",
     "text": [
      "200\n",
      "{'Content-Length': '15543', 'Via': 'http/1.1 media-ncache-api12.prod.media.sg3.yahoo.com (ApacheTrafficServer [cMsSf ]), http/1.1 media-router-api7.prod.media.sg3.yahoo.com (ApacheTrafficServer [cMsSf ]), https/1.1 e2.ycpi.hkb.yahoo.com (ApacheTrafficServer [cMsSf ])', 'Content-Disposition': 'attachment; filename=0939.HK.csv', 'X-Content-Type-Options': 'nosniff', 'Content-Encoding': 'gzip', 'Age': '0', 'Strict-Transport-Security': 'max-age=0', 'Server': 'ATS', 'Connection': 'keep-alive', 'Cache-Control': 'no-cache, no-store, private', 'Date': 'Mon, 19 Jun 2017 15:59:26 GMT', 'X-YQL-Host': 'pprd3-node7516-lh1.manhattan.sg3.yahoo.com', 'Content-Type': 'text/csv; charset=utf-8', 'X-Yahoo-Request-Id': '2eqllupckft6u'}\n",
      "<class 'pandas.core.frame.DataFrame'>\n",
      "DatetimeIndex: 820 entries, 2014-01-02 to 2017-04-28\n",
      "Data columns (total 1 columns):\n",
      "IBM    820 non-null float64\n",
      "dtypes: float64(1)\n",
      "memory usage: 12.8 KB\n",
      "None\n"
     ]
    },
    {
     "data": {
      "image/png": "[encoded data removed]",
      "text/plain": [
       "<matplotlib.figure.Figure at 0xb7d8b70>"
      ]
     },
     "metadata": {},
     "output_type": "display_data"
    }
   ],
   "source": [
    "# -*- coding: utf-8 -*-\n",
    "\"\"\"\n",
    "Created on Fri May 19 2017\n",
    "\n",
    "@author: vincentqiao\n",
    "\"\"\"\n",
    "\n",
    "import requests\n",
    "import time\n",
    "import pandas as pd\n",
    "import matplotlib.pyplot as plt\n",
    "\n",
    "def datetime_timestamp(dt):\n",
    "     time.strptime(dt, '%Y-%m-%d %H:%M:%S')\n",
    "     s = time.mktime(time.strptime(dt, '%Y-%m-%d %H:%M:%S'))\n",
    "     return str(int(s))\n",
    "\n",
    "s = requests.Session()\n",
    "\n",
    "#Replace B=xxxx\n",
    "cookies = dict(B='c650m5hchrhii&b=3&s=tk')\n",
    "\n",
    "#Replace crumb=yyyy\n",
    "crumb = 'NMhMTCv7QpM'\n",
    "\n",
    "begin = datetime_timestamp(\"2014-01-01 09:00:00\")\n",
    "\n",
    "end = datetime_timestamp(\"2017-04-30 09:00:00\")\n",
    "stock = '0939.hk'\n",
    "r = s.get(\"https://query1.finance.yahoo.com/v7/finance/download/%s?period1=\" % stock\n",
    "          +begin+\"&period2=\"+end+\"&interval=1d&events=history&crumb=\"+crumb,cookies=cookies,verify=False)\n",
    "print r.status_code\n",
    "print r.headers\n",
    "f = open('IBM.csv', 'w')\n",
    "f.write(r.text)\n",
    "f.close()    \n",
    "\n",
    "\n",
    "es = pd.read_csv('IBM.csv', index_col=0,parse_dates=True, sep=\",\", dayfirst=True)\n",
    "\n",
    "data = pd.DataFrame({\"IBM\" : es[\"Adj Close\"][:]}) \n",
    "\n",
    "print(data.info())\n",
    "\n",
    "data.plot(subplots=True, grid=True, style=\"b\", figsize=(8, 6))\n",
    "\n",
    "plt.show()"
   ]
  },
  {
   "cell_type": "code",
   "execution_count": null,
   "metadata": {
    "collapsed": true
   },
   "outputs": [],
   "source": [
    "# Hello World program in Python\n",
    "    \n",
    "import pandas as pd\n",
    "import matplotlib.pyplot as plt\n",
    "import matplotlib\n",
    "import urllib\n",
    "import tempfile as tp\n",
    "import os\n",
    "import sys\n",
    "import requests\n",
    "from datetime import datetime\n",
    "import time\n",
    "        \n",
    "def downloadfile(stock, f = 'sd1t1vml1c1p2k4k5a2'):\n",
    "  \n",
    "    baseurl = 'http://finance.yahoo.com/d/quotes.csv?%s'\n",
    "    stock = ['{:0>4}'.format(x) + '.HK' for x in stock]\n",
    "    s = '+'.join(stock)\n",
    "  \n",
    "    paras = urllib.urlencode({'s': s, 'f': f})\n",
    "    f = urllib.urlopen(baseurl % paras)\n",
    "     \n",
    "    # sd1t1vml1c1p2k4k5a2\n",
    "    colname = ['symbol', 'date', 'time', 'volume', \n",
    "               'daily_rng', 'last_price', \n",
    "               'change', 'change_pct', '52wH', '52wH_pct', 'avg_vol']\n",
    "    data = pd.read_csv(f, names=colname)  \n",
    "    data = data.set_index(['symbol']) \n",
    "    \n",
    "    f.close()\n",
    "    print data\n",
    "    return data \n",
    "    # construct multiIndex\n",
    "    \n",
    "def getRecord(stock, period=10):\n",
    "    if period == None:\n",
    "        period = 10 \n",
    "    else:\n",
    "        period = int(period)\n",
    "    home = os.path.dirname(os.getcwd())\n",
    "    filename = '{:%Y%m%d-%H%M}'.format(datetime.today()) \n",
    "\n",
    "    # dirname = '{:0>4}'.format(stock)\n",
    "    # for x in stock:\n",
    "    #     directory = os.join.path(home, x)\n",
    "    #     if not os.path.exists(directory):\n",
    "    #         os.makedirs(directory)\n",
    "    dest = os.path.join(home, 'data', filename)\n",
    "            \n",
    "    for x in range(period): \n",
    "        data = downloadfile(stock)\n",
    "        data.to_csv(dest)\n",
    "        time.sleep(180)\n",
    "    # store data\n",
    "def quote():\n",
    "    home = os.path.dirname(os.getcwd())\n",
    "    datahome = os.path.join(home, 'data', 'result.csv')\n",
    "        \n",
    "        # timestr = datetime.strftime(datetime.now(), '%D%H%M')\n",
    "        # data.to_csv(os.path.join(datahome, timestr + '.csv'), index=False)\n",
    "        \n",
    "    def getStocklist():\n",
    "        home = os.path.dirname(os.getcwd())\n",
    "        ls = os.path.join(home, 'data', 'stock_list.xls')\n",
    "        ls = pd.read_excel(ls)\n",
    "        return ls\n",
    "    def a2():\n",
    "        ls = getStocklist()\n",
    "        downloadfile(ls[0])\n",
    "        \n",
    "        \n",
    "    ls = getStocklist()\n",
    "    code = ['1398', '939', '1']\n",
    "    d = pd.DataFrame()\n",
    "    for x in range(15):\n",
    "        code = list(ls['STOCK CODE'][x*100:(x+1)*100])\n",
    "        data = downloadfile(code)\n",
    "    #     print data\n",
    "        d = d.append(data)\n",
    "    d = d[d['volume'] > 0]\n",
    "    d.to_csv(datahome)    \n",
    "    # codeset = list(ls['STOCK CODE'][1500:])\n",
    "    # downloadfile(codeset)\n",
    "\n",
    "\n",
    "\n",
    "def histDownload(code):\n",
    "    code = '{:0>4}.csv'.format(code)\n",
    "    home = os.path.dirname(os.getcwd())\n",
    "    datadir = os.path.join(home, 'data', code)\n",
    "    def datetime_timestamp(dt):\n",
    "         time.strptime(dt, '%Y-%m-%d %H:%M:%S')\n",
    "         s = time.mktime(time.strptime(dt, '%Y-%m-%d %H:%M:%S'))\n",
    "         return str(int(s))\n",
    "\n",
    "    s = requests.Session()\n",
    "\n",
    "    #Replace B=xxxx\n",
    "    cookies = dict(B='c650m5hchrhii&b=3&s=tk')\n",
    "\n",
    "    #Replace crumb=yyyy\n",
    "    crumb = 'NMhMTCv7QpM'\n",
    "\n",
    "    begin = datetime_timestamp(\"2014-01-01 09:00:00\")\n",
    "\n",
    "    end = datetime_timestamp(\"2017-04-30 09:00:00\")\n",
    "    \n",
    "    r = s.get(\"https://query1.finance.yahoo.com/v7/finance/download/%s?period1=\" % code\n",
    "              +begin+\"&period2=\"+end+\"&interval=1d&events=history&crumb=\"+crumb,cookies=cookies,verify=False)\n",
    "    \n",
    "    f = open(datadir, 'w')\n",
    "    f.write(r.text)\n",
    "    f.close()\n",
    "\n",
    "def getStocklist():\n",
    "    home = os.path.dirname(os.getcwd())\n",
    "    ls = os.path.join(home, 'data', 'stock_list.xls')\n",
    "    ls = pd.read_excel(ls)\n",
    "    return ls\n",
    "\n",
    "# d = {}\n",
    "# ls = getStocklist()[0]\n",
    "# for code in ls['STOCK CODE']:\n",
    "#     print 'downloading %s \\n' % code\n",
    "#     d['{:0>4}'.format(code)] = histDownload(code)\n",
    "\n",
    "\n",
    "if __name__ == '__main__':\n",
    "    # if len(sys.argv) < 2 :\n",
    "    #     sys.exit()\n",
    "    #     print len(sys.argv)\n",
    "    # print len(sys.argv)\n",
    "    # arg = sys.argv\n",
    "    # getRecord(arg[1:-1], arg[-1])\n",
    "    histDownload(939)\n"
   ]
  }
 ],
 "metadata": {
  "kernelspec": {
   "display_name": "Python 2",
   "language": "python",
   "name": "python2"
  },
  "language_info": {
   "codemirror_mode": {
    "name": "ipython",
    "version": 2
   },
   "file_extension": ".py",
   "mimetype": "text/x-python",
   "name": "python",
   "nbconvert_exporter": "python",
   "pygments_lexer": "ipython2",
   "version": "2.7.13"
  }
 },
 "nbformat": 4,
 "nbformat_minor": 2
}
