{
 "cells": [
  {
   "cell_type": "code",
   "execution_count": 4,
   "metadata": {
    "collapsed": true
   },
   "outputs": [],
   "source": [
    "import requests"
   ]
  },
  {
   "cell_type": "code",
   "execution_count": 14,
   "metadata": {
    "collapsed": false
   },
   "outputs": [
    {
     "name": "stderr",
     "output_type": "stream",
     "text": [
      "C:\\Users\\fbuser\\Anaconda2\\lib\\site-packages\\requests\\packages\\urllib3\\connectionpool.py:843: InsecureRequestWarning: Unverified HTTPS request is being made. Adding certificate verification is strongly advised. See: https://urllib3.readthedocs.io/en/latest/advanced-usage.html#ssl-warnings\n",
      "  InsecureRequestWarning)\n"
     ]
    },
    {
     "ename": "AttributeError",
     "evalue": "'Session' object has no attribute 'status_code'",
     "output_type": "error",
     "traceback": [
      "\u001b[0;31m---------------------------------------------------------------------------\u001b[0m",
      "\u001b[0;31mAttributeError\u001b[0m                            Traceback (most recent call last)",
      "\u001b[0;32m<ipython-input-14-4ee5670f2cd2>\u001b[0m in \u001b[0;36m<module>\u001b[0;34m()\u001b[0m\n\u001b[1;32m      3\u001b[0m \u001b[0ms\u001b[0m \u001b[1;33m=\u001b[0m \u001b[0mrequests\u001b[0m\u001b[1;33m.\u001b[0m\u001b[0mSession\u001b[0m\u001b[1;33m(\u001b[0m\u001b[1;33m)\u001b[0m\u001b[1;33m\u001b[0m\u001b[0m\n\u001b[1;32m      4\u001b[0m \u001b[0ms\u001b[0m\u001b[1;33m.\u001b[0m\u001b[0mget\u001b[0m\u001b[1;33m(\u001b[0m\u001b[0mb2\u001b[0m\u001b[1;33m,\u001b[0m \u001b[0mverify\u001b[0m\u001b[1;33m=\u001b[0m\u001b[0mFalse\u001b[0m\u001b[1;33m)\u001b[0m\u001b[1;33m\u001b[0m\u001b[0m\n\u001b[0;32m----> 5\u001b[0;31m \u001b[0ms\u001b[0m\u001b[1;33m.\u001b[0m\u001b[0mstatus_code\u001b[0m\u001b[1;33m\u001b[0m\u001b[0m\n\u001b[0m\u001b[1;32m      6\u001b[0m \u001b[0mr\u001b[0m \u001b[1;33m=\u001b[0m \u001b[0mrequests\u001b[0m\u001b[1;33m.\u001b[0m\u001b[0mget\u001b[0m\u001b[1;33m(\u001b[0m\u001b[0mb2\u001b[0m\u001b[1;33m,\u001b[0m \u001b[0mverify\u001b[0m\u001b[1;33m=\u001b[0m\u001b[0mFalse\u001b[0m\u001b[1;33m)\u001b[0m\u001b[1;33m\u001b[0m\u001b[0m\n\u001b[1;32m      7\u001b[0m \u001b[0mr\u001b[0m\u001b[1;33m.\u001b[0m\u001b[0mheaders\u001b[0m\u001b[1;33m\u001b[0m\u001b[0m\n",
      "\u001b[0;31mAttributeError\u001b[0m: 'Session' object has no attribute 'status_code'"
     ]
    }
   ],
   "source": [
    "baseurl = 'https://query1.finance.yahoo.com/v7/finance/download/2018.HK'\n",
    "b2 = 'https://chart.yahoo.com/table.csv?s=IBM'\n",
    "s = requests.Session()\n",
    "s.get(b2, verify=False)\n",
    "s.status_code\n",
    "r = requests.get(b2, verify=False)\n",
    "r.headers\n"
   ]
  },
  {
   "cell_type": "code",
   "execution_count": null,
   "metadata": {
    "collapsed": true
   },
   "outputs": [],
   "source": [
    "# -*- coding: utf-8 -*-\n",
    "\"\"\"\n",
    "Created on Fri May 19 2017\n",
    "\n",
    "@author: vincentqiao\n",
    "\"\"\"\n",
    "\n",
    "import requests\n",
    "import time\n",
    "import pandas as pd\n",
    "import matplotlib.pyplot as plt\n",
    "\n",
    "def datetime_timestamp(dt):\n",
    "     time.strptime(dt, '%Y-%m-%d %H:%M:%S')\n",
    "     s = time.mktime(time.strptime(dt, '%Y-%m-%d %H:%M:%S'))\n",
    "     return str(int(s))\n",
    "\n",
    "s = requests.Session()\n",
    "\n",
    "#Replace B=xxxx\n",
    "cookies = dict(B='c650m5hchrhii&b=3&s=tk')\n",
    "\n",
    "#Replace crumb=yyyy\n",
    "crumb = 'NMhMTCv7QpM'\n",
    "\n",
    "begin = datetime_timestamp(\"2014-01-01 09:00:00\")\n",
    "\n",
    "end = datetime_timestamp(\"2017-04-30 09:00:00\")\n",
    "\n",
    "r = s.get(\"https://query1.finance.yahoo.com/v7/finance/download/IBM?period1=\"+begin+\"&period2=\"+end+\"&interval=1d&events=history&crumb=\"+crumb,cookies=cookies,verify=False)\n",
    "\n",
    "f = open('IBM.csv', 'w')\n",
    "f.write(r.text)\n",
    "f.close()    \n",
    "\n",
    "\n",
    "es = pd.read_csv('IBM.csv', index_col=0,parse_dates=True, sep=\",\", dayfirst=True)\n",
    "\n",
    "data = pd.DataFrame({\"IBM\" : es[\"Adj Close\"][:]}) \n",
    "\n",
    "print(data.info())\n",
    "\n",
    "data.plot(subplots=True, grid=True, style=\"b\", figsize=(8, 6))\n",
    "\n",
    "plt.show()"
   ]
  }
 ],
 "metadata": {
  "kernelspec": {
   "display_name": "Python 2",
   "language": "python",
   "name": "python2"
  },
  "language_info": {
   "codemirror_mode": {
    "name": "ipython",
    "version": 2
   },
   "file_extension": ".py",
   "mimetype": "text/x-python",
   "name": "python",
   "nbconvert_exporter": "python",
   "pygments_lexer": "ipython2",
   "version": "2.7.13"
  }
 },
 "nbformat": 4,
 "nbformat_minor": 2
}
